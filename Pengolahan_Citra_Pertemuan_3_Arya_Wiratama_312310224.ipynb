{
  "nbformat": 4,
  "nbformat_minor": 0,
  "metadata": {
    "colab": {
      "provenance": [],
      "authorship_tag": "ABX9TyNKgajTlwi6DRqRMeysZHUb",
      "include_colab_link": true
    },
    "kernelspec": {
      "name": "python3",
      "display_name": "Python 3"
    },
    "language_info": {
      "name": "python"
    }
  },
  "cells": [
    {
      "cell_type": "markdown",
      "metadata": {
        "id": "view-in-github",
        "colab_type": "text"
      },
      "source": [
        "<a href=\"https://colab.research.google.com/github/AryaWiratama26/citra/blob/main/Pengolahan_Citra_Pertemuan_3_Arya_Wiratama_312310224.ipynb\" target=\"_parent\"><img src=\"https://colab.research.google.com/assets/colab-badge.svg\" alt=\"Open In Colab\"/></a>"
      ]
    },
    {
      "cell_type": "markdown",
      "source": [
        "# 1. Import Library yang dibutuhkan\n",
        "- imageio = Digunakan untuk membaca dan menulis file gambar dalam berbagai format.\n",
        "- matplotlib = Digunakan untuk menampilkan dan memvisualisasikan gambar atau data.\n",
        "- numpy = Digunakan untuk manipulasi array numerik, yang sangat berguna dalam pemrosesan gambar karena gambar biasanya direpresentasikan dalam bentuk array.\n",
        "- skimage = Menyediakan berbagai fungsi untuk pemrosesan gambar, seperti filtering, segmentasi, transformasi, dll.\n"
      ],
      "metadata": {
        "id": "eBhk6pC7_sV-"
      }
    },
    {
      "cell_type": "code",
      "source": [
        "\"\"\"Python libraries for learning and performing image processing.\"\"\"\n",
        "import imageio.v3 as iio\n",
        "import matplotlib.pyplot as plt\n",
        "import numpy as np\n",
        "import skimage as ski"
      ],
      "metadata": {
        "id": "jmytP0FevW13"
      },
      "execution_count": 1,
      "outputs": []
    },
    {
      "cell_type": "markdown",
      "source": [
        "# 2. Membaca gambar dan melihatkan tipe gambar\n",
        "- Fungsi iio.imread() digunakan untuk membaca gambar.\n",
        "- Baris ini mencetak tipe data dari variabel eight.\n"
      ],
      "metadata": {
        "id": "ahJenmA8kqep"
      }
    },
    {
      "cell_type": "code",
      "source": [
        "eight = iio.imread(uri=\"eight.tif\")\n",
        "print(type(eight))"
      ],
      "metadata": {
        "colab": {
          "base_uri": "https://localhost:8080/"
        },
        "id": "vMv9BsNvvgoh",
        "outputId": "0daa3de6-cddb-40dd-e8bc-04be35aa4f58"
      },
      "execution_count": 2,
      "outputs": [
        {
          "output_type": "stream",
          "name": "stdout",
          "text": [
            "<class 'numpy.ndarray'>\n"
          ]
        }
      ]
    },
    {
      "cell_type": "markdown",
      "source": [
        "# 3. Membuat subplot dan menampilkan gambar\n",
        "- plt.subplots() digunakan untuk membuat figure (fig) dan axes (ax).\n",
        "- fig → Objek utama (canvas) yang berisi satu atau lebih subplot.\n",
        "- ax → Objek subplot yang digunakan untuk menampilkan gambar atau grafik.\n",
        "- imshow() adalah fungsi dari matplotlib yang digunakan untuk menampilkan gambar dalam bentuk array.\n"
      ],
      "metadata": {
        "id": "Cf3rp79hlEGf"
      }
    },
    {
      "cell_type": "code",
      "source": [
        "fig, ax = plt.subplots()\n",
        "ax.imshow(eight)"
      ],
      "metadata": {
        "colab": {
          "base_uri": "https://localhost:8080/",
          "height": 447
        },
        "id": "ZofW7YAjvk7o",
        "outputId": "d69ee8bb-4fad-4ec5-8506-b289483276ff"
      },
      "execution_count": 3,
      "outputs": [
        {
          "output_type": "execute_result",
          "data": {
            "text/plain": [
              "<matplotlib.image.AxesImage at 0x7f768b48c190>"
            ]
          },
          "metadata": {},
          "execution_count": 3
        },
        {
          "output_type": "display_data",
          "data": {
            "text/plain": [
              "<Figure size 640x480 with 1 Axes>"
            ],
            "image/png": "[encoded data removed]"
          },
          "metadata": {}
        }
      ]
    },
    {
      "cell_type": "markdown",
      "source": [
        "# 4. Menampilkan dimensi dari gambar dan array numpy dari seluruh gambar\n",
        "- eight.shape digunakan untuk mendapatkan dimensi array gambar.\n",
        "- print(eight) mencetak seluruh array NumPy yang merepresentasikan gambar."
      ],
      "metadata": {
        "id": "erGlnbQMlgny"
      }
    },
    {
      "cell_type": "code",
      "source": [
        "print(eight.shape)\n",
        "print(eight)"
      ],
      "metadata": {
        "colab": {
          "base_uri": "https://localhost:8080/"
        },
        "id": "qRCUS04jvl7r",
        "outputId": "01095e39-c36b-495b-fcbf-c5782b7ae55e"
      },
      "execution_count": 4,
      "outputs": [
        {
          "output_type": "stream",
          "name": "stdout",
          "text": [
            "(5, 3)\n",
            "[[0. 0. 0.]\n",
            " [0. 1. 0.]\n",
            " [0. 0. 0.]\n",
            " [0. 1. 0.]\n",
            " [0. 0. 0.]]\n"
          ]
        }
      ]
    },
    {
      "cell_type": "markdown",
      "source": [
        "# 5. Mengubah pixel baris 2 dan kolom 1\n",
        "- zero = iio.imread(uri=\"eight.tif\") = membaca gambar \"eight.tif\" dan menyimpannya dalam variabel zero\n",
        "- zero[2, 1] = 1.0 = Mengubah nilai piksel di baris ke-2, kolom ke-1 menjadi 1.0.\n",
        "- fig, ax = plt.subplots() = Membuat figure dan axis yang akan digunakan untuk menampilkan gambar.\n",
        "- ax.imshow(zero) = Menampilkan gambar setelah modifikasi.\n",
        "- print(zero) = menampilkan array numpy"
      ],
      "metadata": {
        "id": "Y_trJr87l7_2"
      }
    },
    {
      "cell_type": "code",
      "source": [
        "zero = iio.imread(uri=\"eight.tif\")\n",
        "zero[2, 1]= 1.0\n",
        "\n",
        "# The following line of code creates a new figure for imshow to use in displaying our output.\n",
        "fig, ax = plt.subplots()\n",
        "ax.imshow(zero)\n",
        "print(zero)\n"
      ],
      "metadata": {
        "colab": {
          "base_uri": "https://localhost:8080/",
          "height": 517
        },
        "id": "xJMcFKfKvoai",
        "outputId": "fb0e89c5-935e-4875-af6d-d5f1a74afeff"
      },
      "execution_count": 5,
      "outputs": [
        {
          "output_type": "stream",
          "name": "stdout",
          "text": [
            "[[0. 0. 0.]\n",
            " [0. 1. 0.]\n",
            " [0. 1. 0.]\n",
            " [0. 1. 0.]\n",
            " [0. 0. 0.]]\n"
          ]
        },
        {
          "output_type": "display_data",
          "data": {
            "text/plain": [
              "<Figure size 640x480 with 1 Axes>"
            ],
            "image/png": "[encoded data removed]"
          },
          "metadata": {}
        }
      ]
    },
    {
      "cell_type": "markdown",
      "source": [
        "# 6.\n",
        "- three_colours = iio.imread(uri=\"eight.tif\") = Melakukan copy gambar\n",
        "- three_colours = three_colours * 128 = Mengalikan seluruh matrix\n",
        "- three_colours[2, :] = 255. = Mengatur baris tengah menjadi 255\n",
        "- ax.imshow(three_colours) = Menampilkan gambar\n",
        "- print(three_colours) = Menampilkan array numpy"
      ],
      "metadata": {
        "id": "DWUVrw0TnDE2"
      }
    },
    {
      "cell_type": "code",
      "source": [
        "# make a copy of eight\n",
        "three_colours = iio.imread(uri=\"eight.tif\")\n",
        "\n",
        "# multiply the whole matrix by 128\n",
        "three_colours = three_colours * 128\n",
        "\n",
        "# set the middle row (index 2) to the value of 255.,\n",
        "# so you end up with the values 0., 128., and 255.\n",
        "three_colours[2, :] = 255.\n",
        "fig, ax = plt.subplots()\n",
        "ax.imshow(three_colours)\n",
        "print(three_colours)"
      ],
      "metadata": {
        "colab": {
          "base_uri": "https://localhost:8080/",
          "height": 517
        },
        "id": "P4Tbt0Kivt_N",
        "outputId": "22fa8c08-0583-45f0-dd2b-126233639549"
      },
      "execution_count": 6,
      "outputs": [
        {
          "output_type": "stream",
          "name": "stdout",
          "text": [
            "[[  0.   0.   0.]\n",
            " [  0. 128.   0.]\n",
            " [255. 255. 255.]\n",
            " [  0. 128.   0.]\n",
            " [  0.   0.   0.]]\n"
          ]
        },
        {
          "output_type": "display_data",
          "data": {
            "text/plain": [
              "<Figure size 640x480 with 1 Axes>"
            ],
            "image/png": "[encoded data removed]"
          },
          "metadata": {}
        }
      ]
    },
    {
      "cell_type": "markdown",
      "source": [
        "# 7. Menampilkan gambar grayscale\n",
        "- fig, ax = plt.subplots() = Membuat figure dan axes\n",
        "- ax.imshow(three_colours, cmap=\"gray\") = Menampilkan gambar dalam greyscalee"
      ],
      "metadata": {
        "id": "17VAHD6dnoFZ"
      }
    },
    {
      "cell_type": "code",
      "source": [
        "fig, ax = plt.subplots()\n",
        "ax.imshow(three_colours, cmap=\"gray\")"
      ],
      "metadata": {
        "colab": {
          "base_uri": "https://localhost:8080/",
          "height": 447
        },
        "id": "cRPyiVdhvyc8",
        "outputId": "369776ed-d839-40a5-caf3-b3b5d4add6d7"
      },
      "execution_count": 7,
      "outputs": [
        {
          "output_type": "execute_result",
          "data": {
            "text/plain": [
              "<matplotlib.image.AxesImage at 0x7f7671bffa10>"
            ]
          },
          "metadata": {},
          "execution_count": 7
        },
        {
          "output_type": "display_data",
          "data": {
            "text/plain": [
              "<Figure size 640x480 with 1 Axes>"
            ],
            "image/png": "[encoded data removed]"
          },
          "metadata": {}
        }
      ]
    },
    {
      "cell_type": "markdown",
      "source": [
        "# 8. Menampilkan checkerboard (pola kotak-kotak) dengan warna acak\n",
        "- pseudorandomizer = np.random.RandomState(2021) = Membuat generator angka acak\n",
        "- checkerboard = pseudorandomizer.randint(0, 255, size=(4, 4, 3)) = Membuat checkerboard 4 x 4 dengan 3 channel RGB\n",
        "- randint(0, 255) menghasilkan angka acak antara 0 hingga 254 (termasuk).\n",
        "-  fig, ax = plt.subplots() = Membuat figure and axis\n",
        "- ax.imshow(checkerboard) = Menampilkan gambar\n",
        "- print(checkerboard) = Mencetak array RGB"
      ],
      "metadata": {
        "id": "8ofZBgghn79g"
      }
    },
    {
      "cell_type": "code",
      "source": [
        "# set the random seed so we all get the same matrix\n",
        "pseudorandomizer = np.random.RandomState(2021)\n",
        "# create a 4 × 4 checkerboard of random colours\n",
        "checkerboard = pseudorandomizer.randint(0, 255, size=(4, 4, 3))\n",
        "# restore the default map as you show the image\n",
        "fig, ax = plt.subplots()\n",
        "ax.imshow(checkerboard)\n",
        "# display the arrays\n",
        "print(checkerboard)"
      ],
      "metadata": {
        "colab": {
          "base_uri": "https://localhost:8080/",
          "height": 765
        },
        "id": "Gd03FH3Jv1To",
        "outputId": "89175163-6d5c-4706-a1f6-43fa902a6879"
      },
      "execution_count": 8,
      "outputs": [
        {
          "output_type": "stream",
          "name": "stdout",
          "text": [
            "[[[116  85  57]\n",
            "  [128 109  94]\n",
            "  [214  44  62]\n",
            "  [219 157  21]]\n",
            "\n",
            " [[ 93 152 140]\n",
            "  [246 198 102]\n",
            "  [ 70  33 101]\n",
            "  [  7   1 110]]\n",
            "\n",
            " [[225 124 229]\n",
            "  [154 194 176]\n",
            "  [227  63  49]\n",
            "  [144 178  54]]\n",
            "\n",
            " [[123 180  93]\n",
            "  [120   5  49]\n",
            "  [166 234 142]\n",
            "  [ 71  85  70]]]\n"
          ]
        },
        {
          "output_type": "display_data",
          "data": {
            "text/plain": [
              "<Figure size 640x480 with 1 Axes>"
            ],
            "image/png": "[encoded data removed]"
          },
          "metadata": {}
        }
      ]
    },
    {
      "cell_type": "markdown",
      "source": [
        "# 9. Mengekstrak informasi warna dari satu piksel tertentu dalam gambar checkerboard\n",
        "- Akses indeks [1, 3, :]\n",
        "- 1 → Baris ke-2 (karena indeks dimulai dari 0).\n",
        "- 3 → Kolom ke-4 (pojok kanan atas di baris kedua).\n",
        "- : → Mengambil semua channel warna (RGB)."
      ],
      "metadata": {
        "id": "inCl1Hhwozt7"
      }
    },
    {
      "cell_type": "code",
      "source": [
        "# extract all the colour information for the blue square\n",
        "upper_right_square = checkerboard[1, 3, :]\n",
        "upper_right_square"
      ],
      "metadata": {
        "colab": {
          "base_uri": "https://localhost:8080/"
        },
        "id": "x80d4a2Rv3X_",
        "outputId": "af68b926-e9ab-45be-baa9-5694a7237e19"
      },
      "execution_count": 9,
      "outputs": [
        {
          "output_type": "execute_result",
          "data": {
            "text/plain": [
              "array([  7,   1, 110])"
            ]
          },
          "metadata": {},
          "execution_count": 9
        }
      ]
    },
    {
      "cell_type": "markdown",
      "source": [
        "# 10. Memanipulasi gambar checkerboard dengan mengisolasi channel merah (Red)\n",
        "- red_channel = checkerboard * [1, 0, 0] = Membaut chekerboard menjadi warna merah\n",
        "- ax.imshow(red_channel) = Menampilkan gambar"
      ],
      "metadata": {
        "id": "n45uRn9tpnEW"
      }
    },
    {
      "cell_type": "code",
      "source": [
        "red_channel = checkerboard * [1, 0, 0]\n",
        "fig, ax = plt.subplots()\n",
        "ax.imshow(red_channel)"
      ],
      "metadata": {
        "colab": {
          "base_uri": "https://localhost:8080/",
          "height": 452
        },
        "id": "_3CSC9e1v6d7",
        "outputId": "b7bd792a-5e7d-4bfb-984f-91061ac7a938"
      },
      "execution_count": 10,
      "outputs": [
        {
          "output_type": "execute_result",
          "data": {
            "text/plain": [
              "<matplotlib.image.AxesImage at 0x7f7671baba90>"
            ]
          },
          "metadata": {},
          "execution_count": 10
        },
        {
          "output_type": "display_data",
          "data": {
            "text/plain": [
              "<Figure size 640x480 with 1 Axes>"
            ],
            "image/png": "[encoded data removed]"
          },
          "metadata": {}
        }
      ]
    },
    {
      "cell_type": "markdown",
      "source": [
        "# 11 . Memanipulasi gambar checkerboard dengan mengisolasi channel hijau (green)\n",
        "- green_channel = checkerboard * [0, 1, 0] = Membuat chekerboard menjadi warna hijau\n",
        "ax.imshow(green_channel) = Menampilkan gambar"
      ],
      "metadata": {
        "id": "ncr-k5GvqA6B"
      }
    },
    {
      "cell_type": "code",
      "source": [
        "green_channel = checkerboard * [0, 1, 0]\n",
        "fig, ax = plt.subplots()\n",
        "ax.imshow(green_channel)"
      ],
      "metadata": {
        "colab": {
          "base_uri": "https://localhost:8080/",
          "height": 452
        },
        "id": "LgkiNlZbv8fU",
        "outputId": "8d164880-b916-447e-a104-0df2473d9597"
      },
      "execution_count": 11,
      "outputs": [
        {
          "output_type": "execute_result",
          "data": {
            "text/plain": [
              "<matplotlib.image.AxesImage at 0x7f76887c4350>"
            ]
          },
          "metadata": {},
          "execution_count": 11
        },
        {
          "output_type": "display_data",
          "data": {
            "text/plain": [
              "<Figure size 640x480 with 1 Axes>"
            ],
            "image/png": "[encoded data removed]"
          },
          "metadata": {}
        }
      ]
    },
    {
      "cell_type": "markdown",
      "source": [
        "# 11 . Memanipulasi gambar checkerboard dengan mengisolasi channel biru (blue)\n",
        "- blue_channel = checkerboard * [0, 1, 0] = Membuat chekerboard menjadi warna biru\n",
        "ax.imshow(blue_channel) = Menampilkan gambar"
      ],
      "metadata": {
        "id": "UUQglhW-qYac"
      }
    },
    {
      "cell_type": "code",
      "source": [
        "blue_channel = checkerboard * [0, 0, 1]\n",
        "fig, ax = plt.subplots()\n",
        "ax.imshow(blue_channel)"
      ],
      "metadata": {
        "colab": {
          "base_uri": "https://localhost:8080/",
          "height": 452
        },
        "id": "1H-PqZ63v-sT",
        "outputId": "d4150a4f-8569-48bb-d221-738da154f1f8"
      },
      "execution_count": 12,
      "outputs": [
        {
          "output_type": "execute_result",
          "data": {
            "text/plain": [
              "<matplotlib.image.AxesImage at 0x7f76887a7ed0>"
            ]
          },
          "metadata": {},
          "execution_count": 12
        },
        {
          "output_type": "display_data",
          "data": {
            "text/plain": [
              "<Figure size 640x480 with 1 Axes>"
            ],
            "image/png": "[encoded data removed]"
          },
          "metadata": {}
        }
      ]
    },
    {
      "cell_type": "code",
      "source": [],
      "metadata": {
        "id": "LmrdMOJnwDSD"
      },
      "execution_count": 12,
      "outputs": []
    }
  ]
}